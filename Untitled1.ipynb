{
  "nbformat": 4,
  "nbformat_minor": 0,
  "metadata": {
    "colab": {
      "provenance": [],
      "authorship_tag": "ABX9TyMckLSkhT+DDRDDw8kqmjTo",
      "include_colab_link": true
    },
    "kernelspec": {
      "name": "python3",
      "display_name": "Python 3"
    },
    "language_info": {
      "name": "python"
    }
  },
  "cells": [
    {
      "cell_type": "markdown",
      "metadata": {
        "id": "view-in-github",
        "colab_type": "text"
      },
      "source": [
        "<a href=\"https://colab.research.google.com/github/zharashanus/RIKA-AI-HAIDAR/blob/master/Untitled1.ipynb\" target=\"_parent\"><img src=\"https://colab.research.google.com/assets/colab-badge.svg\" alt=\"Open In Colab\"/></a>"
      ]
    },
    {
      "cell_type": "code",
      "execution_count": 6,
      "metadata": {
        "colab": {
          "base_uri": "https://localhost:8080/"
        },
        "id": "JfMPshvP3Puk",
        "outputId": "b45eb5a7-4ae2-47eb-d75d-0a8dbf9de5f1"
      },
      "outputs": [
        {
          "output_type": "stream",
          "name": "stdout",
          "text": [
            "coco.names                 \u001b[0m\u001b[01;34mlogs\u001b[0m/                     rikaai.py\n",
            "config                     main.py                   special_tokens_map.json\n",
            "config.json                merges.txt                ssd_mobilenet_v3_large_coco_2020_01_14.pbtxt\n",
            "description                monitorkek.jpg            test2.jpg\n",
            "frozen_inference_graph.pb  \u001b[01;34mobjects\u001b[0m/                  tokenizer_config.json\n",
            "HEAD                       packed-refs               tokenizer.json\n",
            "\u001b[01;34mhooks\u001b[0m/                     preprocessor_config.json  \u001b[01;34multralytics\u001b[0m/\n",
            "imagenetket.txt            README.md                 vocab.json\n",
            "\u001b[01;34minfo\u001b[0m/                      \u001b[01;34mrefs\u001b[0m/                     \u001b[01;34myolo-Weights\u001b[0m/\n"
          ]
        }
      ],
      "source": [
        "%ls"
      ]
    }
  ]
}